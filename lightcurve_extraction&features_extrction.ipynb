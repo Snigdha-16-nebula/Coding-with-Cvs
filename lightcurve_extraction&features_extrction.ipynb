import pandas as pd
import light_curve as lc
import numpy as np

# Load the file
df = pd.read_csv("lightcurves_grouped_r_clean.csv")

print("✅ DataFrame loaded with shape:", df.shape)
print(df.head())
